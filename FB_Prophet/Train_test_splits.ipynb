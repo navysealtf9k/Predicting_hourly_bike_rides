{
 "cells": [
  {
   "cell_type": "code",
   "execution_count": 1,
   "metadata": {},
   "outputs": [],
   "source": [
    "#Import data manip modules\n",
    "import pandas as pd\n",
    "import numpy as np\n",
    "\n",
    "#Visualization libraries\n",
    "from matplotlib import pyplot as plt\n",
    "import seaborn as sns; sns.set()"
   ]
  },
  {
   "cell_type": "code",
   "execution_count": 2,
   "metadata": {},
   "outputs": [],
   "source": [
    "#Read data in\n",
    "dat = pd.read_csv('../Data/bike_sharing_hourly.csv', parse_dates=['dteday'])"
   ]
  },
  {
   "cell_type": "code",
   "execution_count": 3,
   "metadata": {},
   "outputs": [],
   "source": [
    "# Convert to datetime format\n",
    "dat['dteday'] = pd.to_datetime(dat.dteday) + dat.hr.astype('timedelta64[h]')"
   ]
  },
  {
   "cell_type": "code",
   "execution_count": 4,
   "metadata": {},
   "outputs": [],
   "source": [
    "#Make dteday dataframe's index\n",
    "dat.set_index('dteday', drop=True, inplace=True)"
   ]
  },
  {
   "cell_type": "code",
   "execution_count": 5,
   "metadata": {},
   "outputs": [],
   "source": [
    "#Create new column with a log of counts\n",
    "dat['log_cnt'] = np.log(dat.cnt) + 1 #add constant to change 0's to 1's"
   ]
  },
  {
   "cell_type": "code",
   "execution_count": 6,
   "metadata": {},
   "outputs": [],
   "source": [
    "#Convert weathersit into multiple dummy variables\n",
    "wsit_dummies = pd.get_dummies(dat.weathersit)\n",
    "wsit_dummies = wsit_dummies.iloc[:,0:3] #Drop one to avoid dummy variables trap\n",
    "\n",
    "#Join dummies to original df\n",
    "dat = dat.join(wsit_dummies)"
   ]
  },
  {
   "cell_type": "code",
   "execution_count": 7,
   "metadata": {},
   "outputs": [
    {
     "data": {
      "text/html": [
       "<div>\n",
       "<style scoped>\n",
       "    .dataframe tbody tr th:only-of-type {\n",
       "        vertical-align: middle;\n",
       "    }\n",
       "\n",
       "    .dataframe tbody tr th {\n",
       "        vertical-align: top;\n",
       "    }\n",
       "\n",
       "    .dataframe thead th {\n",
       "        text-align: right;\n",
       "    }\n",
       "</style>\n",
       "<table border=\"1\" class=\"dataframe\">\n",
       "  <thead>\n",
       "    <tr style=\"text-align: right;\">\n",
       "      <th></th>\n",
       "      <th>instant</th>\n",
       "      <th>season</th>\n",
       "      <th>yr</th>\n",
       "      <th>mnth</th>\n",
       "      <th>hr</th>\n",
       "      <th>holiday</th>\n",
       "      <th>weekday</th>\n",
       "      <th>workingday</th>\n",
       "      <th>weathersit</th>\n",
       "      <th>temp</th>\n",
       "      <th>atemp</th>\n",
       "      <th>hum</th>\n",
       "      <th>windspeed</th>\n",
       "      <th>casual</th>\n",
       "      <th>registered</th>\n",
       "      <th>cnt</th>\n",
       "      <th>log_cnt</th>\n",
       "      <th>1</th>\n",
       "      <th>2</th>\n",
       "      <th>3</th>\n",
       "    </tr>\n",
       "    <tr>\n",
       "      <th>dteday</th>\n",
       "      <th></th>\n",
       "      <th></th>\n",
       "      <th></th>\n",
       "      <th></th>\n",
       "      <th></th>\n",
       "      <th></th>\n",
       "      <th></th>\n",
       "      <th></th>\n",
       "      <th></th>\n",
       "      <th></th>\n",
       "      <th></th>\n",
       "      <th></th>\n",
       "      <th></th>\n",
       "      <th></th>\n",
       "      <th></th>\n",
       "      <th></th>\n",
       "      <th></th>\n",
       "      <th></th>\n",
       "      <th></th>\n",
       "      <th></th>\n",
       "    </tr>\n",
       "  </thead>\n",
       "  <tbody>\n",
       "    <tr>\n",
       "      <th>2012-12-31 22:00:00</th>\n",
       "      <td>17378</td>\n",
       "      <td>1</td>\n",
       "      <td>1</td>\n",
       "      <td>12</td>\n",
       "      <td>22</td>\n",
       "      <td>0</td>\n",
       "      <td>1</td>\n",
       "      <td>1</td>\n",
       "      <td>1</td>\n",
       "      <td>0.26</td>\n",
       "      <td>0.2727</td>\n",
       "      <td>0.56</td>\n",
       "      <td>0.1343</td>\n",
       "      <td>13</td>\n",
       "      <td>48</td>\n",
       "      <td>61</td>\n",
       "      <td>5.110874</td>\n",
       "      <td>1</td>\n",
       "      <td>0</td>\n",
       "      <td>0</td>\n",
       "    </tr>\n",
       "    <tr>\n",
       "      <th>2012-12-31 23:00:00</th>\n",
       "      <td>17379</td>\n",
       "      <td>1</td>\n",
       "      <td>1</td>\n",
       "      <td>12</td>\n",
       "      <td>23</td>\n",
       "      <td>0</td>\n",
       "      <td>1</td>\n",
       "      <td>1</td>\n",
       "      <td>1</td>\n",
       "      <td>0.26</td>\n",
       "      <td>0.2727</td>\n",
       "      <td>0.65</td>\n",
       "      <td>0.1343</td>\n",
       "      <td>12</td>\n",
       "      <td>37</td>\n",
       "      <td>49</td>\n",
       "      <td>4.891820</td>\n",
       "      <td>1</td>\n",
       "      <td>0</td>\n",
       "      <td>0</td>\n",
       "    </tr>\n",
       "  </tbody>\n",
       "</table>\n",
       "</div>"
      ],
      "text/plain": [
       "                     instant  season  yr  mnth  hr  holiday  weekday  \\\n",
       "dteday                                                                 \n",
       "2012-12-31 22:00:00    17378       1   1    12  22        0        1   \n",
       "2012-12-31 23:00:00    17379       1   1    12  23        0        1   \n",
       "\n",
       "                     workingday  weathersit  temp   atemp   hum  windspeed  \\\n",
       "dteday                                                                       \n",
       "2012-12-31 22:00:00           1           1  0.26  0.2727  0.56     0.1343   \n",
       "2012-12-31 23:00:00           1           1  0.26  0.2727  0.65     0.1343   \n",
       "\n",
       "                     casual  registered  cnt   log_cnt  1  2  3  \n",
       "dteday                                                           \n",
       "2012-12-31 22:00:00      13          48   61  5.110874  1  0  0  \n",
       "2012-12-31 23:00:00      12          37   49  4.891820  1  0  0  "
      ]
     },
     "execution_count": 7,
     "metadata": {},
     "output_type": "execute_result"
    }
   ],
   "source": [
    "#Check columns of data\n",
    "dat.tail(2)"
   ]
  },
  {
   "cell_type": "code",
   "execution_count": 8,
   "metadata": {},
   "outputs": [],
   "source": [
    "#Create dataframe of holidays\n",
    "hol_df = pd.DataFrame({'holiday': 'hol', 'ds': dat[dat['holiday'] == 1].index})"
   ]
  },
  {
   "cell_type": "markdown",
   "metadata": {},
   "source": [
    "## Visualizing Train and Test Splits"
   ]
  },
  {
   "cell_type": "code",
   "execution_count": 9,
   "metadata": {
    "scrolled": true
   },
   "outputs": [],
   "source": [
    "#Create train and test splits\n",
    "train = dat['Jan 2011': 'Aug 2012']\n",
    "val = dat['Sep 2012': 'Nov 2012']\n",
    "test = dat['Dec 2012']"
   ]
  },
  {
   "cell_type": "code",
   "execution_count": 10,
   "metadata": {},
   "outputs": [],
   "source": [
    "#Dates to create validation sets on\n",
    "v_dates = ['Aug 2012', 'Sep 2012', 'Oct 2012', 'Nov 2012']"
   ]
  },
  {
   "cell_type": "code",
   "execution_count": 11,
   "metadata": {},
   "outputs": [],
   "source": [
    "#Function to create train and test splits\n",
    "def train_test_splits(dat, val_dates):\n",
    "    \n",
    "    '''\n",
    "    Function that splits training data into training and validation \n",
    "    sets using an expanding window. \n",
    "    Inputs:       dat - Training data to be split\n",
    "            val_dates - List of dates to create validation sets. Must include last month \n",
    "                        of training data\n",
    "    Outputs: expanding_window_indices - List with tuple of train and validation set indices\n",
    "    '''\n",
    "    \n",
    "    #Initialize counter\n",
    "    pos = 0\n",
    "    expanding_window_indices = []\n",
    "\n",
    "    #Iterate over all values except the last in list of dates\n",
    "    for date in val_dates[:-1]:\n",
    "    \n",
    "        #Create training set\n",
    "        train = dat[ : date]\n",
    "        val_len = len(val_dates) - 1 #Count starts from 0\n",
    "    \n",
    "        #Create variable to move to the next date\n",
    "        next_date = pos+1 if (pos+1 < val_len) else val_len\n",
    "    \n",
    "        #Creat validation split\n",
    "        val = dat[val_dates[next_date]]\n",
    "    \n",
    "        pos += 1#Update counter\n",
    "    \n",
    "        #Create train and test set indices\n",
    "        expanding_window_indices.append(((train.index, val.index)))\n",
    "        \n",
    "    return expanding_window_indices   "
   ]
  },
  {
   "cell_type": "code",
   "execution_count": 13,
   "metadata": {},
   "outputs": [],
   "source": [
    "splits = train_test_splits(dat, v_dates)"
   ]
  },
  {
   "cell_type": "code",
   "execution_count": 17,
   "metadata": {},
   "outputs": [
    {
     "data": {
      "text/plain": [
       "DatetimeIndex(['2012-09-01 00:00:00', '2012-09-01 01:00:00',\n",
       "               '2012-09-01 02:00:00', '2012-09-01 03:00:00',\n",
       "               '2012-09-01 04:00:00', '2012-09-01 05:00:00',\n",
       "               '2012-09-01 06:00:00', '2012-09-01 07:00:00',\n",
       "               '2012-09-01 08:00:00', '2012-09-01 09:00:00',\n",
       "               ...\n",
       "               '2012-09-30 14:00:00', '2012-09-30 15:00:00',\n",
       "               '2012-09-30 16:00:00', '2012-09-30 17:00:00',\n",
       "               '2012-09-30 18:00:00', '2012-09-30 19:00:00',\n",
       "               '2012-09-30 20:00:00', '2012-09-30 21:00:00',\n",
       "               '2012-09-30 22:00:00', '2012-09-30 23:00:00'],\n",
       "              dtype='datetime64[ns]', name='dteday', length=720, freq=None)"
      ]
     },
     "execution_count": 17,
     "metadata": {},
     "output_type": "execute_result"
    }
   ],
   "source": [
    "splits[0][1]"
   ]
  }
 ],
 "metadata": {
  "kernelspec": {
   "display_name": "Python 3",
   "language": "python",
   "name": "python3"
  },
  "language_info": {
   "codemirror_mode": {
    "name": "ipython",
    "version": 3
   },
   "file_extension": ".py",
   "mimetype": "text/x-python",
   "name": "python",
   "nbconvert_exporter": "python",
   "pygments_lexer": "ipython3",
   "version": "3.7.2"
  }
 },
 "nbformat": 4,
 "nbformat_minor": 2
}
