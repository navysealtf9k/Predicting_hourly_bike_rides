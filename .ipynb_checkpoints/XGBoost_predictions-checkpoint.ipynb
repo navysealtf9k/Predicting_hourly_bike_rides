{
 "cells": [
  {
   "cell_type": "code",
   "execution_count": 1,
   "metadata": {},
   "outputs": [],
   "source": [
    "#Import data mainpulation modules\n",
    "import pandas as pd\n",
    "import numpy as np\n",
    "\n",
    "#Import graphing libraries\n",
    "from matplotlib import pyplot as plt\n",
    "import seaborn as sns; sns.set()\n",
    "\n",
    "#Import prophet function fb prophet\n",
    "from fbprophet import Prophet\n",
    "\n",
    "#Import XGBoost\n",
    "import xgboost as xgb\n",
    "\n",
    "#Import time module to compute run time\n",
    "import time"
   ]
  },
  {
   "cell_type": "code",
   "execution_count": 2,
   "metadata": {},
   "outputs": [],
   "source": [
    "#Read data in\n",
    "dat = pd.read_csv('bike_sharing_hourly.csv', parse_dates=['dteday'])"
   ]
  },
  {
   "cell_type": "markdown",
   "metadata": {},
   "source": [
    "## Data Pre-processing"
   ]
  },
  {
   "cell_type": "code",
   "execution_count": 3,
   "metadata": {},
   "outputs": [],
   "source": [
    "# Convert to datetime format\n",
    "dat['dteday'] = pd.to_datetime(dat.dteday) + dat.hr.astype('timedelta64[h]')"
   ]
  },
  {
   "cell_type": "code",
   "execution_count": 4,
   "metadata": {},
   "outputs": [],
   "source": [
    "#Make dteday dataframe's index\n",
    "dat.set_index('dteday', drop=True, inplace=True)"
   ]
  },
  {
   "cell_type": "code",
   "execution_count": 5,
   "metadata": {},
   "outputs": [],
   "source": [
    "#Create new column with a log of counts\n",
    "dat['log_cnt'] = np.log(dat.cnt) + 1 #add constant to change 0's to 1's"
   ]
  },
  {
   "cell_type": "code",
   "execution_count": 6,
   "metadata": {},
   "outputs": [],
   "source": [
    "#Create dummies for each categorical variable of interest\n",
    "dat_with_dummies = pd.get_dummies(dat, \n",
    "                                  columns=['season', 'yr', 'mnth', 'hr', 'weekday', \n",
    "                                           'weathersit', ],\n",
    "                                  prefix=['Qtr', 'Year', 'Month', 'Hour', 'Day', 'Weather_Sit'], \n",
    "                                 drop_first=True)\n",
    "\n",
    "#Drop categorical columns\n",
    "dat_with_dummies = dat_with_dummies.drop(['instant', 'temp', 'casual', 'registered', 'cnt'], axis=1)"
   ]
  },
  {
   "cell_type": "code",
   "execution_count": 7,
   "metadata": {
    "scrolled": true
   },
   "outputs": [
    {
     "name": "stdout",
     "output_type": "stream",
     "text": [
      "<class 'pandas.core.frame.DataFrame'>\n",
      "DatetimeIndex: 17379 entries, 2011-01-01 00:00:00 to 2012-12-31 23:00:00\n",
      "Data columns (total 53 columns):\n",
      "holiday          17379 non-null int64\n",
      "workingday       17379 non-null int64\n",
      "atemp            17379 non-null float64\n",
      "hum              17379 non-null float64\n",
      "windspeed        17379 non-null float64\n",
      "log_cnt          17379 non-null float64\n",
      "Qtr_2            17379 non-null uint8\n",
      "Qtr_3            17379 non-null uint8\n",
      "Qtr_4            17379 non-null uint8\n",
      "Year_1           17379 non-null uint8\n",
      "Month_2          17379 non-null uint8\n",
      "Month_3          17379 non-null uint8\n",
      "Month_4          17379 non-null uint8\n",
      "Month_5          17379 non-null uint8\n",
      "Month_6          17379 non-null uint8\n",
      "Month_7          17379 non-null uint8\n",
      "Month_8          17379 non-null uint8\n",
      "Month_9          17379 non-null uint8\n",
      "Month_10         17379 non-null uint8\n",
      "Month_11         17379 non-null uint8\n",
      "Month_12         17379 non-null uint8\n",
      "Hour_1           17379 non-null uint8\n",
      "Hour_2           17379 non-null uint8\n",
      "Hour_3           17379 non-null uint8\n",
      "Hour_4           17379 non-null uint8\n",
      "Hour_5           17379 non-null uint8\n",
      "Hour_6           17379 non-null uint8\n",
      "Hour_7           17379 non-null uint8\n",
      "Hour_8           17379 non-null uint8\n",
      "Hour_9           17379 non-null uint8\n",
      "Hour_10          17379 non-null uint8\n",
      "Hour_11          17379 non-null uint8\n",
      "Hour_12          17379 non-null uint8\n",
      "Hour_13          17379 non-null uint8\n",
      "Hour_14          17379 non-null uint8\n",
      "Hour_15          17379 non-null uint8\n",
      "Hour_16          17379 non-null uint8\n",
      "Hour_17          17379 non-null uint8\n",
      "Hour_18          17379 non-null uint8\n",
      "Hour_19          17379 non-null uint8\n",
      "Hour_20          17379 non-null uint8\n",
      "Hour_21          17379 non-null uint8\n",
      "Hour_22          17379 non-null uint8\n",
      "Hour_23          17379 non-null uint8\n",
      "Day_1            17379 non-null uint8\n",
      "Day_2            17379 non-null uint8\n",
      "Day_3            17379 non-null uint8\n",
      "Day_4            17379 non-null uint8\n",
      "Day_5            17379 non-null uint8\n",
      "Day_6            17379 non-null uint8\n",
      "Weather_Sit_2    17379 non-null uint8\n",
      "Weather_Sit_3    17379 non-null uint8\n",
      "Weather_Sit_4    17379 non-null uint8\n",
      "dtypes: float64(4), int64(2), uint8(47)\n",
      "memory usage: 1.7 MB\n"
     ]
    }
   ],
   "source": [
    "#Check newly formed dataframe\n",
    "dat_with_dummies.info()"
   ]
  },
  {
   "cell_type": "code",
   "execution_count": 8,
   "metadata": {},
   "outputs": [],
   "source": [
    "#Dataframe with regressors\n",
    "x = dat_with_dummies.drop(['log_cnt'], axis=1)\n",
    "y = dat_with_dummies.loc[:,'log_cnt']"
   ]
  },
  {
   "cell_type": "code",
   "execution_count": 9,
   "metadata": {},
   "outputs": [
    {
     "name": "stderr",
     "output_type": "stream",
     "text": [
      "/anaconda3/lib/python3.7/site-packages/xgboost/core.py:587: FutureWarning: Series.base is deprecated and will be removed in a future version\n",
      "  if getattr(data, 'base', None) is not None and \\\n",
      "/anaconda3/lib/python3.7/site-packages/xgboost/core.py:588: FutureWarning: Series.base is deprecated and will be removed in a future version\n",
      "  data.base is not None and isinstance(data, np.ndarray) \\\n"
     ]
    }
   ],
   "source": [
    "#Convert data into optimized form to call xgboost on\n",
    "data_dmatrix = xgb.DMatrix(data=x,label=y)"
   ]
  },
  {
   "cell_type": "markdown",
   "metadata": {},
   "source": [
    "## Train - Test Splits"
   ]
  },
  {
   "cell_type": "code",
   "execution_count": 10,
   "metadata": {},
   "outputs": [],
   "source": [
    "def split_data(data, split_date):\n",
    "    return data[data.index < split_date].copy(), \\\n",
    "           data[data.index >  split_date].copy()"
   ]
  },
  {
   "cell_type": "code",
   "execution_count": 11,
   "metadata": {},
   "outputs": [],
   "source": [
    "#Split x and y \n",
    "x_train = x[x.index < '01-Nov-2012']\n",
    "x_test = x[x.index >= '01-Nov-2012']\n",
    "\n",
    "#Split y\n",
    "y_train = y[y.index < '01-Nov-2012']\n",
    "y_test = y[y.index >= '01-Nov-2012']"
   ]
  },
  {
   "cell_type": "code",
   "execution_count": 12,
   "metadata": {},
   "outputs": [],
   "source": [
    "#Start timer\n",
    "start_time = time.time()"
   ]
  },
  {
   "cell_type": "code",
   "execution_count": 13,
   "metadata": {},
   "outputs": [
    {
     "data": {
      "text/plain": [
       "XGBRegressor(base_score=0.5, booster='gbtree', colsample_bylevel=1,\n",
       "       colsample_bytree=1, gamma=0, importance_type='gain',\n",
       "       learning_rate=0.1, max_delta_step=0, max_depth=3,\n",
       "       min_child_weight=1, missing=None, n_estimators=1000, n_jobs=1,\n",
       "       nthread=None, objective='reg:linear', random_state=0, reg_alpha=0,\n",
       "       reg_lambda=1, scale_pos_weight=1, seed=None, silent=True,\n",
       "       subsample=1)"
      ]
     },
     "execution_count": 13,
     "metadata": {},
     "output_type": "execute_result"
    }
   ],
   "source": [
    "#Create and train xgboost model\n",
    "reg = xgb.XGBRegressor(objective='reg:linear', n_estimators=1000)\n",
    "\n",
    "#Fit model to data\n",
    "reg.fit(x_train, y_train,\n",
    "        eval_set=[(x_train, y_train), (x_test, y_test)],\n",
    "        early_stopping_rounds=50, #stop if 50 consequent rounds without decrease of error\n",
    "        verbose=False) # Change verbose to True if you want to see it train"
   ]
  },
  {
   "cell_type": "code",
   "execution_count": 14,
   "metadata": {},
   "outputs": [
    {
     "data": {
      "text/plain": [
       "<matplotlib.axes._subplots.AxesSubplot at 0x1a230c8208>"
      ]
     },
     "execution_count": 14,
     "metadata": {},
     "output_type": "execute_result"
    },
    {
     "data": {
      "image/png": "[encoded data removed]",
      "text/plain": [
       "<Figure size 864x576 with 1 Axes>"
      ]
     },
     "metadata": {
      "needs_background": "light"
     },
     "output_type": "display_data"
    }
   ],
   "source": [
    "#Create feature importance plot\n",
    "fig, ax = plt.subplots(figsize=(12, 8))\n",
    "xgb.plot_importance(reg, height=0.9, \n",
    "                   show_values=False, ax=ax)"
   ]
  },
  {
   "cell_type": "code",
   "execution_count": 15,
   "metadata": {},
   "outputs": [],
   "source": [
    "#Predict counts in training set\n",
    "x_train_pred = reg.predict(x_train)"
   ]
  },
  {
   "cell_type": "code",
   "execution_count": 16,
   "metadata": {},
   "outputs": [],
   "source": [
    "#Predict counts in test set\n",
    "x_test_pred = reg.predict(x_test)"
   ]
  },
  {
   "cell_type": "code",
   "execution_count": 17,
   "metadata": {},
   "outputs": [],
   "source": [
    "#Append predictions "
   ]
  },
  {
   "cell_type": "code",
   "execution_count": 18,
   "metadata": {},
   "outputs": [
    {
     "name": "stderr",
     "output_type": "stream",
     "text": [
      "/anaconda3/lib/python3.7/site-packages/pandas/plotting/_converter.py:129: FutureWarning: Using an implicitly registered datetime converter for a matplotlib plotting method. The converter was registered by pandas on import. Future versions of pandas will require you to explicitly register matplotlib converters.\n",
      "\n",
      "To register the converters:\n",
      "\t>>> from pandas.plotting import register_matplotlib_converters\n",
      "\t>>> register_matplotlib_converters()\n",
      "  warnings.warn(msg, FutureWarning)\n"
     ]
    },
    {
     "data": {
      "text/plain": [
       "<matplotlib.legend.Legend at 0x1a260f1898>"
      ]
     },
     "execution_count": 18,
     "metadata": {},
     "output_type": "execute_result"
    },
    {
     "data": {
      "image/png": "[encoded data removed]",
      "text/plain": [
       "<Figure size 1008x432 with 1 Axes>"
      ]
     },
     "metadata": {
      "needs_background": "light"
     },
     "output_type": "display_data"
    }
   ],
   "source": [
    "#Plot predictions and observed values\n",
    "plt.figure(figsize=(14,6))\n",
    "plt.plot(dat.index, dat.loc[:,'log_cnt'], label='Observed')\n",
    "plt.plot(x_test.index, x_test_pred, label='Predicted')\n",
    "plt.ylabel('Log Counts', size=15)\n",
    "plt.xlabel('Time', size=15)\n",
    "plt.title('Bike Ride count Predictions using XGBoost GAM', size = 20)\n",
    "plt.legend()"
   ]
  },
  {
   "cell_type": "markdown",
   "metadata": {},
   "source": [
    "## Measure Accuracy"
   ]
  },
  {
   "cell_type": "code",
   "execution_count": 19,
   "metadata": {},
   "outputs": [],
   "source": [
    "#Functions to compute error metrics\n",
    "def accuracy(pred, obs):\n",
    "    \n",
    "    '''\n",
    "    Computes mean absolute percentage error\n",
    "    Inputs: pred - Array of predicted/forecasted values\n",
    "             obs - Array of actual values to be forecast\n",
    "    Outputs: error_metrics - Dictionary with 3 values; RMSE, MAE, MAPE\n",
    "    '''\n",
    "    \n",
    "    error_metrics = {}\n",
    "    \n",
    "    #Convert inputs to numpy arrays\n",
    "    pred, obs = np.array(pred), np.array(obs)\n",
    "    \n",
    "    #Compute error metrics\n",
    "    error_metrics['MAPE'] = np.mean(np.abs((obs - pred)/obs))*100\n",
    "    error_metrics['RMSE'] = np.sqrt(np.mean((obs - pred)**2))\n",
    "    error_metrics['MAE'] = np.mean(np.abs((obs - pred)))\n",
    "    \n",
    "    return error_metrics"
   ]
  },
  {
   "cell_type": "code",
   "execution_count": 20,
   "metadata": {},
   "outputs": [
    {
     "data": {
      "text/plain": [
       "{'MAPE': 6.087689966514758,\n",
       " 'RMSE': 0.34884581663604486,\n",
       " 'MAE': 0.23557105928557806}"
      ]
     },
     "execution_count": 20,
     "metadata": {},
     "output_type": "execute_result"
    }
   ],
   "source": [
    "#Train set accuracy\n",
    "accuracy(x_train_pred, y_train)"
   ]
  },
  {
   "cell_type": "code",
   "execution_count": 21,
   "metadata": {},
   "outputs": [
    {
     "data": {
      "text/plain": [
       "{'MAPE': 8.672563350264221,\n",
       " 'RMSE': 0.5066435967886701,\n",
       " 'MAE': 0.3679614002484339}"
      ]
     },
     "execution_count": 21,
     "metadata": {},
     "output_type": "execute_result"
    }
   ],
   "source": [
    "#Test set accuracy\n",
    "accuracy(x_test_pred, y_test)"
   ]
  },
  {
   "cell_type": "code",
   "execution_count": 22,
   "metadata": {},
   "outputs": [
    {
     "name": "stdout",
     "output_type": "stream",
     "text": [
      "Total run time is 1.0647481679916382 minutes\n"
     ]
    }
   ],
   "source": [
    "#End time\n",
    "end_time = time.time()\n",
    "run_time = (end_time - start_time)/60 #time in minutes\n",
    "print('Total run time is', run_time, 'minutes')"
   ]
  }
 ],
 "metadata": {
  "kernelspec": {
   "display_name": "Python 3",
   "language": "python",
   "name": "python3"
  },
  "language_info": {
   "codemirror_mode": {
    "name": "ipython",
    "version": 3
   },
   "file_extension": ".py",
   "mimetype": "text/x-python",
   "name": "python",
   "nbconvert_exporter": "python",
   "pygments_lexer": "ipython3",
   "version": "3.7.2"
  }
 },
 "nbformat": 4,
 "nbformat_minor": 2
}
